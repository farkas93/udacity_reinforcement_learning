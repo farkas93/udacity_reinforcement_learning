{
 "cells": [
  {
   "cell_type": "markdown",
   "metadata": {},
   "source": [
    "Next, we will start the environment!  **_Before running the code cell below_**, change the `file_name` parameter to match the location of the Unity environment that you downloaded.\n",
    "\n",
    "- **Mac**: `\"path/to/Banana.app\"`\n",
    "- **Windows** (x86): `\"path/to/Banana_Windows_x86/Banana.exe\"`\n",
    "- **Windows** (x86_64): `\"path/to/Banana_Windows_x86_64/Banana.exe\"`\n",
    "- **Linux** (x86): `\"path/to/Banana_Linux/Banana.x86\"`\n",
    "- **Linux** (x86_64): `\"path/to/Banana_Linux/Banana.x86_64\"`\n",
    "- **Linux** (x86, headless): `\"path/to/Banana_Linux_NoVis/Banana.x86\"`\n",
    "- **Linux** (x86_64, headless): `\"path/to/Banana_Linux_NoVis/Banana.x86_64\"`\n",
    "\n",
    "For instance, if you are using a Mac, then you downloaded `Banana.app`.  If this file is in the same folder as the notebook, then the line below should appear as follows:\n",
    "```\n",
    "env = UnityEnvironment(file_name=\"Banana.app\")\n",
    "```"
   ]
  },
  {
   "cell_type": "markdown",
   "metadata": {},
   "source": [
    "# Navigation\n",
    "\n",
    "---\n",
    "\n",
    "In this notebook, you will learn how to use the Unity ML-Agents environment for the first project of the [Deep Reinforcement Learning Nanodegree](https://www.udacity.com/course/deep-reinforcement-learning-nanodegree--nd893).\n",
    "\n",
    "### 1. Start the Environment\n",
    "\n",
    "We begin by importing some necessary packages.  If the code cell below returns an error, please revisit the project instructions to double-check that you have installed [Unity ML-Agents](https://github.com/Unity-Technologies/ml-agents/blob/master/docs/Installation.md) and [NumPy](http://www.numpy.org/)."
   ]
  },
  {
   "cell_type": "code",
   "execution_count": 8,
   "metadata": {},
   "outputs": [],
   "source": [
    "from unityagents import UnityEnvironment\r\n",
    "import numpy as np\r\n",
    "import torch\r\n",
    "import matplotlib.pyplot as plt\r\n",
    "%matplotlib inline"
   ]
  },
  {
   "cell_type": "code",
   "execution_count": 9,
   "metadata": {},
   "outputs": [],
   "source": [
    "env = UnityEnvironment(file_name=\"./Banana/Banana.exe\")"
   ]
  },
  {
   "cell_type": "markdown",
   "metadata": {},
   "source": [
    "Environments contain **_brains_** which are responsible for deciding the actions of their associated agents. Here we check for the first brain available, and set it as the default brain we will be controlling from Python."
   ]
  },
  {
   "cell_type": "code",
   "execution_count": 4,
   "metadata": {},
   "outputs": [],
   "source": [
    "# get the default brain\r\n",
    "brain_name = env.brain_names[0]\r\n",
    "brain = env.brains[brain_name]"
   ]
  },
  {
   "cell_type": "markdown",
   "metadata": {},
   "source": [
    "### 2. Examine the State and Action Spaces\n",
    "\n",
    "The simulation contains a single agent that navigates a large environment.  At each time step, it has four actions at its disposal:\n",
    "- `0` - walk forward \n",
    "- `1` - walk backward\n",
    "- `2` - turn left\n",
    "- `3` - turn right\n",
    "\n",
    "The state space has `37` dimensions and contains the agent's velocity, along with ray-based perception of objects around agent's forward direction.  A reward of `+1` is provided for collecting a yellow banana, and a reward of `-1` is provided for collecting a blue banana. \n",
    "\n",
    "Run the code cell below to print some information about the environment."
   ]
  },
  {
   "cell_type": "code",
   "execution_count": 5,
   "metadata": {},
   "outputs": [
    {
     "name": "stdout",
     "output_type": "stream",
     "text": [
      "Number of agents: 1\n",
      "Number of actions: 4\n",
      "States look like: [1.         0.         0.         0.         0.84408134 0.\n",
      " 0.         1.         0.         0.0748472  0.         1.\n",
      " 0.         0.         0.25755    1.         0.         0.\n",
      " 0.         0.74177343 0.         1.         0.         0.\n",
      " 0.25854847 0.         0.         1.         0.         0.09355672\n",
      " 0.         1.         0.         0.         0.31969345 0.\n",
      " 0.        ]\n",
      "States have length: 37\n"
     ]
    }
   ],
   "source": [
    "# reset the environment\r\n",
    "env_info = env.reset(train_mode=True)[brain_name]\r\n",
    "\r\n",
    "# number of agents in the environment\r\n",
    "print('Number of agents:', len(env_info.agents))\r\n",
    "\r\n",
    "# number of actions\r\n",
    "action_size = brain.vector_action_space_size\r\n",
    "print('Number of actions:', action_size)\r\n",
    "\r\n",
    "# examine the state space \r\n",
    "state = env_info.vector_observations[0]\r\n",
    "print('States look like:', state)\r\n",
    "state_size = len(state)\r\n",
    "print('States have length:', state_size)"
   ]
  },
  {
   "cell_type": "markdown",
   "metadata": {},
   "source": [
    "### 3. Take Random Actions in the Environment\n",
    "\n",
    "In the next code cell, you will learn how to use the Python API to control the agent and receive feedback from the environment.\n",
    "\n",
    "Once this cell is executed, you will watch the agent's performance, if it selects an action (uniformly) at random with each time step.  A window should pop up that allows you to observe the agent, as it moves through the environment.  \n",
    "\n",
    "Of course, as part of the project, you'll have to change the code so that the agent is able to use its experience to gradually choose better actions when interacting with the environment!"
   ]
  },
  {
   "cell_type": "code",
   "execution_count": 9,
   "metadata": {},
   "outputs": [
    {
     "name": "stdout",
     "output_type": "stream",
     "text": [
      "Score: 1.0\n"
     ]
    }
   ],
   "source": [
    "env_info = env.reset(train_mode=False)[brain_name] # reset the environment\r\n",
    "state = env_info.vector_observations[0]            # get the current state\r\n",
    "score = 0                                          # initialize the score\r\n",
    "while True:\r\n",
    "    action = np.random.randint(action_size)        # select an action\r\n",
    "    env_info = env.step(action)[brain_name]        # send the action to the environment\r\n",
    "    next_state = env_info.vector_observations[0]   # get the next state\r\n",
    "    reward = env_info.rewards[0]                   # get the reward\r\n",
    "    done = env_info.local_done[0]                  # see if episode has finished\r\n",
    "    score += reward                                # update the score\r\n",
    "    state = next_state                             # roll over the state to next time step\r\n",
    "    if done:                                       # exit loop if episode finished\r\n",
    "        break\r\n",
    "    \r\n",
    "print(\"Score: {}\".format(score))"
   ]
  },
  {
   "cell_type": "markdown",
   "metadata": {},
   "source": [
    "When finished, you can close the environment."
   ]
  },
  {
   "cell_type": "markdown",
   "metadata": {},
   "source": [
    "### 4. It's Your Turn!\n",
    "\n",
    "Now it's your turn to train your own agent to solve the environment!  When training the environment, set `train_mode=True`, so that the line for resetting the environment looks like the following:\n",
    "```python\n",
    "env_info = env.reset(train_mode=True)[brain_name]\n",
    "```"
   ]
  },
  {
   "cell_type": "markdown",
   "metadata": {},
   "source": [
    "### 5. DQN-Agent"
   ]
  },
  {
   "cell_type": "code",
   "execution_count": 6,
   "metadata": {},
   "outputs": [],
   "source": [
    "from agents.dqn_agent import DQNAgent\r\n",
    "\r\n",
    "agent = DQNAgent(state_size=37, action_size=4, seed=0)\r\n",
    "\r\n",
    "# watch an untrained agent\r\n",
    "test_environment = True \r\n",
    "if test_environment:\r\n",
    "    env_info = env.reset(train_mode=False)[brain_name] # reset the environment\r\n",
    "    state = env_info.vector_observations[0]            # get the current state\r\n",
    "    score = 0                                          # initialize the score\r\n",
    "\r\n",
    "    for j in range(5):\r\n",
    "        action = int(agent.act(state))        # select an action\r\n",
    "        env_info = env.step(action)[brain_name]        # send the action to the environment\r\n",
    "        next_state = env_info.vector_observations[0]   # get the next state\r\n",
    "        reward = env_info.rewards[0]                   # get the reward\r\n",
    "        done = env_info.local_done[0]                  # see if episode has finished\r\n",
    "        score += reward                                # update the score\r\n",
    "        state = next_state                             # roll over the state to next time step\r\n",
    "        if done:                                       # exit loop if episode finished\r\n",
    "            break\r\n"
   ]
  },
  {
   "cell_type": "code",
   "execution_count": 8,
   "metadata": {},
   "outputs": [
    {
     "name": "stdout",
     "output_type": "stream",
     "text": [
      "Episode 100\tAverage Score: 0.99\n",
      "Improvements on solving the environment in 100 episodes!\t Created new checkpoint\n",
      "\n",
      "\n",
      "Episode 200\tAverage Score: 4.20\n",
      "Improvements on solving the environment in 200 episodes!\t Created new checkpoint\n",
      "\n",
      "\n",
      "Episode 300\tAverage Score: 7.99\n",
      "Improvements on solving the environment in 300 episodes!\t Created new checkpoint\n",
      "\n",
      "\n",
      "Episode 400\tAverage Score: 10.87\n",
      "Improvements on solving the environment in 400 episodes!\t Created new checkpoint\n",
      "\n",
      "\n",
      "Episode 500\tAverage Score: 12.59\n",
      "Improvements on solving the environment in 500 episodes!\t Created new checkpoint\n",
      "\n",
      "\n",
      "Episode 600\tAverage Score: 14.01\n",
      "Improvements on solving the environment in 600 episodes!\t Created new checkpoint\n",
      "\n",
      "\n",
      "Episode 700\tAverage Score: 15.40\n",
      "Improvements on solving the environment in 700 episodes!\t Created new checkpoint\n",
      "\n",
      "\n",
      "Episode 800\tAverage Score: 16.13\n",
      "Improvements on solving the environment in 800 episodes!\t Created new checkpoint\n",
      "\n",
      "\n",
      "Episode 900\tAverage Score: 15.90\n",
      "\n",
      "\n",
      "Episode 1000\tAverage Score: 15.62\n",
      "\n",
      "\n",
      "Episode 1100\tAverage Score: 15.10\n",
      "\n",
      "\n",
      "Episode 1200\tAverage Score: 15.55\n",
      "\n",
      "\n",
      "Early Out: Training ended due to 3 stagnating epochs\n",
      "\n",
      "Training completed in 1100 episodes!\tAverage Score: 15.55\n"
     ]
    },
    {
     "data": {
      "image/png": "[encoded data removed]",
      "text/plain": [
       "<Figure size 432x288 with 1 Axes>"
      ]
     },
     "metadata": {
      "needs_background": "light"
     },
     "output_type": "display_data"
    }
   ],
   "source": [
    "# Train the DQN agent\r\n",
    "scores = agent.train(env, brain_name, n_episodes=1800, max_t=1000, eps_start=1.0, eps_end=0.01, eps_decay=0.995)\r\n",
    "\r\n",
    "# plot the scores\r\n",
    "fig = plt.figure()\r\n",
    "ax = fig.add_subplot(111)\r\n",
    "plt.plot(np.arange(len(scores)), scores)\r\n",
    "plt.ylabel('Score')\r\n",
    "plt.xlabel('Episode #')\r\n",
    "plt.show()"
   ]
  },
  {
   "cell_type": "code",
   "execution_count": 9,
   "metadata": {},
   "outputs": [],
   "source": [
    "#Save the trained model\r\n",
    "torch.save(agent.qnetwork_local.state_dict(), './saved_models/dqn_agent_v2.pth')"
   ]
  },
  {
   "cell_type": "code",
   "execution_count": 7,
   "metadata": {},
   "outputs": [
    {
     "name": "stdout",
     "output_type": "stream",
     "text": [
      "Episode 99\tAverage Score: 14.12\n",
      "Mean Score: 14.12 after 100 episodes\n"
     ]
    }
   ],
   "source": [
    "model_to_test = \"./saved_models/dqn_agent_v2.pth\"\r\n",
    "\r\n",
    "# load the weights from file and test the agent\r\n",
    "agent.qnetwork_local.load_state_dict(torch.load(model_to_test))\r\n",
    "scores = []\r\n",
    "episode_cnt = 0\r\n",
    "while episode_cnt < 100:\r\n",
    "    env_info = env.reset(train_mode=True)[brain_name] # reset the environment\r\n",
    "    state = env_info.vector_observations[0]            # get the current state\r\n",
    "    score = 0                                          # initialize the score\r\n",
    "    while True:\r\n",
    "        action = int(agent.act(state))        # select an action\r\n",
    "        env_info = env.step(action)[brain_name]        # send the action to the environment\r\n",
    "        next_state = env_info.vector_observations[0]   # get the next state\r\n",
    "        reward = env_info.rewards[0]                   # get the reward\r\n",
    "        done = env_info.local_done[0]                  # see if episode has finished\r\n",
    "        score += reward                                # update the score\r\n",
    "        state = next_state                             # roll over the state to next time step\r\n",
    "        if done:                                       # exit loop if episode finished\r\n",
    "            scores.append(score)\r\n",
    "            print('\\rEpisode {}\\tAverage Score: {:.2f}'.format(episode_cnt, np.mean(scores)), end=\"\")\r\n",
    "            break\r\n",
    "    #if score < 13:\r\n",
    "    #    print(\"\\rAgent failed the test! Score: {}\".format(score))\r\n",
    "    #    break\r\n",
    "    #else:\r\n",
    "    episode_cnt += 1\r\n",
    "print(\"\\nMean Score: {} after {} episodes\".format(np.mean(scores), episode_cnt))\r\n",
    "\r\n",
    "        "
   ]
  },
  {
   "cell_type": "code",
   "execution_count": null,
   "metadata": {},
   "outputs": [
    {
     "ename": "NameError",
     "evalue": "name 'env' is not defined",
     "output_type": "error",
     "traceback": [
      "\u001b[1;31m---------------------------------------------------------------------------\u001b[0m",
      "\u001b[1;31mNameError\u001b[0m                                 Traceback (most recent call last)",
      "\u001b[1;32m<ipython-input-1-1baceacf4cb1>\u001b[0m in \u001b[0;36m<module>\u001b[1;34m\u001b[0m\n\u001b[1;32m----> 1\u001b[1;33m \u001b[0menv\u001b[0m\u001b[1;33m.\u001b[0m\u001b[0mclose\u001b[0m\u001b[1;33m(\u001b[0m\u001b[1;33m)\u001b[0m\u001b[1;33m\u001b[0m\u001b[1;33m\u001b[0m\u001b[0m\n\u001b[0m",
      "\u001b[1;31mNameError\u001b[0m: name 'env' is not defined"
     ]
    }
   ],
   "source": [
    "env.close()"
   ]
  },
  {
   "cell_type": "markdown",
   "metadata": {},
   "source": []
  }
 ],
 "metadata": {
  "interpreter": {
   "hash": "cb2509927548ac81c4d401258741290042ca17772800f1f9ada0172a50f5f815"
  },
  "kernelspec": {
   "display_name": "Python 3.6.13 64-bit ('drlnd': conda)",
   "name": "python3"
  },
  "language_info": {
   "codemirror_mode": {
    "name": "ipython",
    "version": 3
   },
   "file_extension": ".py",
   "mimetype": "text/x-python",
   "name": "python",
   "nbconvert_exporter": "python",
   "pygments_lexer": "ipython3",
   "version": "3.6.13"
  }
 },
 "nbformat": 4,
 "nbformat_minor": 2
}